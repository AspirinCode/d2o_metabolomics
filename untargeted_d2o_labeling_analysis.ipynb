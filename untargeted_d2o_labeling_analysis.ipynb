{
 "cells": [
  {
   "cell_type": "markdown",
   "metadata": {},
   "source": [
    "## Packages"
   ]
  },
  {
   "cell_type": "code",
   "execution_count": 1,
   "metadata": {
    "scrolled": true
   },
   "outputs": [
    {
     "name": "stderr",
     "output_type": "stream",
     "text": [
      "Loading required package: xcms\n",
      "Loading required package: mzR\n",
      "Loading required package: Rcpp\n",
      "Warning message in fun(libname, pkgname):\n",
      "“mzR has been built against a different Rcpp version (0.12.11)\n",
      "than is installed on your system (0.12.13). This might lead to errors\n",
      "when loading mzR. If you encounter such issues, please send a report,\n",
      "including the output of sessionInfo() to the Bioc support forum at \n",
      "https://support.bioconductor.org/. For details see also\n",
      "https://github.com/sneumann/mzR/wiki/mzR-Rcpp-compiler-linker-issue.”Loading required package: BiocGenerics\n",
      "Loading required package: parallel\n",
      "\n",
      "Attaching package: ‘BiocGenerics’\n",
      "\n",
      "The following objects are masked from ‘package:parallel’:\n",
      "\n",
      "    clusterApply, clusterApplyLB, clusterCall, clusterEvalQ,\n",
      "    clusterExport, clusterMap, parApply, parCapply, parLapply,\n",
      "    parLapplyLB, parRapply, parSapply, parSapplyLB\n",
      "\n",
      "The following objects are masked from ‘package:stats’:\n",
      "\n",
      "    IQR, mad, xtabs\n",
      "\n",
      "The following objects are masked from ‘package:base’:\n",
      "\n",
      "    anyDuplicated, append, as.data.frame, cbind, colnames, do.call,\n",
      "    duplicated, eval, evalq, Filter, Find, get, grep, grepl, intersect,\n",
      "    is.unsorted, lapply, lengths, Map, mapply, match, mget, order,\n",
      "    paste, pmax, pmax.int, pmin, pmin.int, Position, rank, rbind,\n",
      "    Reduce, rownames, sapply, setdiff, sort, table, tapply, union,\n",
      "    unique, unsplit, which, which.max, which.min\n",
      "\n",
      "Loading required package: ProtGenerics\n",
      "Loading required package: Biobase\n",
      "Welcome to Bioconductor\n",
      "\n",
      "    Vignettes contain introductory material; view with\n",
      "    'browseVignettes()'. To cite Bioconductor, see\n",
      "    'citation(\"Biobase\")', and for packages 'citation(\"pkgname\")'.\n",
      "\n",
      "\n",
      "Attaching package: ‘xcms’\n",
      "\n",
      "The following objects are masked from ‘package:Biobase’:\n",
      "\n",
      "    phenoData, phenoData<-\n",
      "\n",
      "Loading required package: tidyverse\n",
      "── Attaching packages ─────────────────────────────────────── tidyverse 1.2.1 ──\n",
      "✔ ggplot2 2.2.1     ✔ purrr   0.2.4\n",
      "✔ tibble  1.4.2     ✔ dplyr   0.7.4\n",
      "✔ tidyr   0.8.0     ✔ stringr 1.2.0\n",
      "✔ readr   1.1.1     ✔ forcats 0.2.0\n",
      "── Conflicts ────────────────────────────────────────── tidyverse_conflicts() ──\n",
      "✖ dplyr::collect()    masks xcms::collect()\n",
      "✖ dplyr::combine()    masks Biobase::combine(), BiocGenerics::combine()\n",
      "✖ dplyr::filter()     masks stats::filter()\n",
      "✖ dplyr::groups()     masks xcms::groups()\n",
      "✖ dplyr::lag()        masks stats::lag()\n",
      "✖ ggplot2::Position() masks BiocGenerics::Position(), base::Position()\n",
      "Loading required package: janitor\n",
      "Loading required package: ecipex\n",
      "Loading required package: viridis\n"
     ]
    }
   ],
   "source": [
    "require(xcms)\n",
    "require(tidyverse)\n",
    "require(stringr)\n",
    "require(forcats)\n",
    "require(janitor)\n",
    "require(ecipex)\n",
    "require(viridis)"
   ]
  },
  {
   "cell_type": "markdown",
   "metadata": {},
   "source": [
    "## `xcms` comparison of unlabeled and labeled samples"
   ]
  },
  {
   "cell_type": "code",
   "execution_count": 2,
   "metadata": {
    "scrolled": true
   },
   "outputs": [
    {
     "name": "stderr",
     "output_type": "stream",
     "text": [
      "Parsed with column specification:\n",
      "cols(\n",
      "  sample_id = col_character(),\n",
      "  label = col_character(),\n",
      "  growth_time = col_character(),\n",
      "  tissue_type = col_character()\n",
      ")\n"
     ]
    }
   ],
   "source": [
    "setwd('~/Box/2018_D2O_manuscript/jupyter/')\n",
    "file_info <- read_csv('../mzml_files/homoharringtonine_case_study/sample_descriptions.csv')"
   ]
  },
  {
   "cell_type": "code",
   "execution_count": 3,
   "metadata": {},
   "outputs": [],
   "source": [
    "file_info <-\n",
    "    file_info %>%\n",
    "    mutate(full_name = list.files(path='../mzml_files/homoharringtonine_case_study', \n",
    "                                  pattern='*.mzML',\n",
    "                                  full.names = T)\n",
    "          )\n",
    "\n",
    "my_files <-\n",
    "    file_info %>%\n",
    "    filter(str_detect(full_name, sample_id)) %>%  # check that full_names match sample_ids\n",
    "    filter(growth_time %in% c('30 days', '46 days'), tissue_type == 'new growth') %>%\n",
    "    pull(full_name)"
   ]
  },
  {
   "cell_type": "code",
   "execution_count": 4,
   "metadata": {},
   "outputs": [
    {
     "data": {
      "text/html": [
       "<table>\n",
       "<thead><tr><th scope=col>sample_id</th><th scope=col>label</th><th scope=col>growth_time</th><th scope=col>tissue_type</th><th scope=col>full_name</th></tr></thead>\n",
       "<tbody>\n",
       "\t<tr><td>180410-KS-I-9-D1                                                       </td><td>D2O                                                                    </td><td>14 days                                                                </td><td>new growth                                                             </td><td>../mzml_files/homoharringtonine_case_study/180410-KS-I-9-D1.mzML       </td></tr>\n",
       "\t<tr><td>180410-KS-I-9-D2                                                       </td><td>D2O                                                                    </td><td>14 days                                                                </td><td>new growth                                                             </td><td>../mzml_files/homoharringtonine_case_study/180410-KS-I-9-D2.mzML       </td></tr>\n",
       "\t<tr><td>180410-KS-I-9-D3                                                       </td><td>D2O                                                                    </td><td>14 days                                                                </td><td>new growth                                                             </td><td>../mzml_files/homoharringtonine_case_study/180410-KS-I-9-D3.mzML       </td></tr>\n",
       "\t<tr><td>180410-KS-I-9-Dnew-1                                                   </td><td>D2O                                                                    </td><td>21 days                                                                </td><td>new growth                                                             </td><td>../mzml_files/homoharringtonine_case_study/180410-KS-I-9-Dnew-1.mzML   </td></tr>\n",
       "\t<tr><td>180410-KS-I-9-Dnew-2                                                   </td><td>D2O                                                                    </td><td>21 days                                                                </td><td>new growth                                                             </td><td>../mzml_files/homoharringtonine_case_study/180410-KS-I-9-Dnew-2.mzML   </td></tr>\n",
       "\t<tr><td>180410-KS-I-9-Dnew-3                                                   </td><td>D2O                                                                    </td><td>21 days                                                                </td><td>new growth                                                             </td><td>../mzml_files/homoharringtonine_case_study/180410-KS-I-9-Dnew-3.mzML   </td></tr>\n",
       "\t<tr><td>180410-KS-I-9-Dold-1                                                   </td><td>D2O                                                                    </td><td>21 days                                                                </td><td>old growth                                                             </td><td>../mzml_files/homoharringtonine_case_study/180410-KS-I-9-Dold-1.mzML   </td></tr>\n",
       "\t<tr><td>180410-KS-I-9-Dold-2                                                   </td><td>D2O                                                                    </td><td>21 days                                                                </td><td>old growth                                                             </td><td>../mzml_files/homoharringtonine_case_study/180410-KS-I-9-Dold-2.mzML   </td></tr>\n",
       "\t<tr><td>180410-KS-I-9-Dold-3                                                   </td><td>D2O                                                                    </td><td>21 days                                                                </td><td>old growth                                                             </td><td>../mzml_files/homoharringtonine_case_study/180410-KS-I-9-Dold-3.mzML   </td></tr>\n",
       "\t<tr><td>180412-KS-I-9-control-1                                                </td><td>H2O                                                                    </td><td>30 days                                                                </td><td>new growth                                                             </td><td>../mzml_files/homoharringtonine_case_study/180412-KS-I-9-control-1.mzML</td></tr>\n",
       "\t<tr><td>180412-KS-I-9-control-2                                                </td><td>H2O                                                                    </td><td>30 days                                                                </td><td>new growth                                                             </td><td>../mzml_files/homoharringtonine_case_study/180412-KS-I-9-control-2.mzML</td></tr>\n",
       "\t<tr><td>180412-KS-I-9-control-3                                                </td><td>H2O                                                                    </td><td>30 days                                                                </td><td>new growth                                                             </td><td>../mzml_files/homoharringtonine_case_study/180412-KS-I-9-control-3.mzML</td></tr>\n",
       "\t<tr><td>180501-KS-I-17-Dnew-A                                                  </td><td>D2O                                                                    </td><td>46 days                                                                </td><td>new growth                                                             </td><td>../mzml_files/homoharringtonine_case_study/180501-KS-I-17-Dnew-A.mzML  </td></tr>\n",
       "\t<tr><td>180501-KS-I-17-Dnew-B                                                  </td><td>D2O                                                                    </td><td>46 days                                                                </td><td>new growth                                                             </td><td>../mzml_files/homoharringtonine_case_study/180501-KS-I-17-Dnew-B.mzML  </td></tr>\n",
       "\t<tr><td>180501-KS-I-17-Dnew-C                                                  </td><td>D2O                                                                    </td><td>46 days                                                                </td><td>new growth                                                             </td><td>../mzml_files/homoharringtonine_case_study/180501-KS-I-17-Dnew-C.mzML  </td></tr>\n",
       "\t<tr><td>180501-KS-I-17-Dold-A                                                  </td><td>D2O                                                                    </td><td>46 days                                                                </td><td>old growth                                                             </td><td>../mzml_files/homoharringtonine_case_study/180501-KS-I-17-Dold-A.mzML  </td></tr>\n",
       "\t<tr><td>180501-KS-I-17-Dold-B                                                  </td><td>D2O                                                                    </td><td>46 days                                                                </td><td>old growth                                                             </td><td>../mzml_files/homoharringtonine_case_study/180501-KS-I-17-Dold-B.mzML  </td></tr>\n",
       "\t<tr><td>180501-KS-I-17-Dold-C                                                  </td><td>D2O                                                                    </td><td>46 days                                                                </td><td>old growth                                                             </td><td>../mzml_files/homoharringtonine_case_study/180501-KS-I-17-Dold-C.mzML  </td></tr>\n",
       "</tbody>\n",
       "</table>\n"
      ],
      "text/latex": [
       "\\begin{tabular}{r|lllll}\n",
       " sample\\_id & label & growth\\_time & tissue\\_type & full\\_name\\\\\n",
       "\\hline\n",
       "\t 180410-KS-I-9-D1                                                              & D2O                                                                           & 14 days                                                                       & new growth                                                                    & ../mzml\\_files/homoharringtonine\\_case\\_study/180410-KS-I-9-D1.mzML       \\\\\n",
       "\t 180410-KS-I-9-D2                                                              & D2O                                                                           & 14 days                                                                       & new growth                                                                    & ../mzml\\_files/homoharringtonine\\_case\\_study/180410-KS-I-9-D2.mzML       \\\\\n",
       "\t 180410-KS-I-9-D3                                                              & D2O                                                                           & 14 days                                                                       & new growth                                                                    & ../mzml\\_files/homoharringtonine\\_case\\_study/180410-KS-I-9-D3.mzML       \\\\\n",
       "\t 180410-KS-I-9-Dnew-1                                                          & D2O                                                                           & 21 days                                                                       & new growth                                                                    & ../mzml\\_files/homoharringtonine\\_case\\_study/180410-KS-I-9-Dnew-1.mzML   \\\\\n",
       "\t 180410-KS-I-9-Dnew-2                                                          & D2O                                                                           & 21 days                                                                       & new growth                                                                    & ../mzml\\_files/homoharringtonine\\_case\\_study/180410-KS-I-9-Dnew-2.mzML   \\\\\n",
       "\t 180410-KS-I-9-Dnew-3                                                          & D2O                                                                           & 21 days                                                                       & new growth                                                                    & ../mzml\\_files/homoharringtonine\\_case\\_study/180410-KS-I-9-Dnew-3.mzML   \\\\\n",
       "\t 180410-KS-I-9-Dold-1                                                          & D2O                                                                           & 21 days                                                                       & old growth                                                                    & ../mzml\\_files/homoharringtonine\\_case\\_study/180410-KS-I-9-Dold-1.mzML   \\\\\n",
       "\t 180410-KS-I-9-Dold-2                                                          & D2O                                                                           & 21 days                                                                       & old growth                                                                    & ../mzml\\_files/homoharringtonine\\_case\\_study/180410-KS-I-9-Dold-2.mzML   \\\\\n",
       "\t 180410-KS-I-9-Dold-3                                                          & D2O                                                                           & 21 days                                                                       & old growth                                                                    & ../mzml\\_files/homoharringtonine\\_case\\_study/180410-KS-I-9-Dold-3.mzML   \\\\\n",
       "\t 180412-KS-I-9-control-1                                                       & H2O                                                                           & 30 days                                                                       & new growth                                                                    & ../mzml\\_files/homoharringtonine\\_case\\_study/180412-KS-I-9-control-1.mzML\\\\\n",
       "\t 180412-KS-I-9-control-2                                                       & H2O                                                                           & 30 days                                                                       & new growth                                                                    & ../mzml\\_files/homoharringtonine\\_case\\_study/180412-KS-I-9-control-2.mzML\\\\\n",
       "\t 180412-KS-I-9-control-3                                                       & H2O                                                                           & 30 days                                                                       & new growth                                                                    & ../mzml\\_files/homoharringtonine\\_case\\_study/180412-KS-I-9-control-3.mzML\\\\\n",
       "\t 180501-KS-I-17-Dnew-A                                                         & D2O                                                                           & 46 days                                                                       & new growth                                                                    & ../mzml\\_files/homoharringtonine\\_case\\_study/180501-KS-I-17-Dnew-A.mzML  \\\\\n",
       "\t 180501-KS-I-17-Dnew-B                                                         & D2O                                                                           & 46 days                                                                       & new growth                                                                    & ../mzml\\_files/homoharringtonine\\_case\\_study/180501-KS-I-17-Dnew-B.mzML  \\\\\n",
       "\t 180501-KS-I-17-Dnew-C                                                         & D2O                                                                           & 46 days                                                                       & new growth                                                                    & ../mzml\\_files/homoharringtonine\\_case\\_study/180501-KS-I-17-Dnew-C.mzML  \\\\\n",
       "\t 180501-KS-I-17-Dold-A                                                         & D2O                                                                           & 46 days                                                                       & old growth                                                                    & ../mzml\\_files/homoharringtonine\\_case\\_study/180501-KS-I-17-Dold-A.mzML  \\\\\n",
       "\t 180501-KS-I-17-Dold-B                                                         & D2O                                                                           & 46 days                                                                       & old growth                                                                    & ../mzml\\_files/homoharringtonine\\_case\\_study/180501-KS-I-17-Dold-B.mzML  \\\\\n",
       "\t 180501-KS-I-17-Dold-C                                                         & D2O                                                                           & 46 days                                                                       & old growth                                                                    & ../mzml\\_files/homoharringtonine\\_case\\_study/180501-KS-I-17-Dold-C.mzML  \\\\\n",
       "\\end{tabular}\n"
      ],
      "text/markdown": [
       "\n",
       "sample_id | label | growth_time | tissue_type | full_name | \n",
       "|---|---|---|---|---|---|---|---|---|---|---|---|---|---|---|---|---|---|\n",
       "| 180410-KS-I-9-D1                                                        | D2O                                                                     | 14 days                                                                 | new growth                                                              | ../mzml_files/homoharringtonine_case_study/180410-KS-I-9-D1.mzML        | \n",
       "| 180410-KS-I-9-D2                                                        | D2O                                                                     | 14 days                                                                 | new growth                                                              | ../mzml_files/homoharringtonine_case_study/180410-KS-I-9-D2.mzML        | \n",
       "| 180410-KS-I-9-D3                                                        | D2O                                                                     | 14 days                                                                 | new growth                                                              | ../mzml_files/homoharringtonine_case_study/180410-KS-I-9-D3.mzML        | \n",
       "| 180410-KS-I-9-Dnew-1                                                    | D2O                                                                     | 21 days                                                                 | new growth                                                              | ../mzml_files/homoharringtonine_case_study/180410-KS-I-9-Dnew-1.mzML    | \n",
       "| 180410-KS-I-9-Dnew-2                                                    | D2O                                                                     | 21 days                                                                 | new growth                                                              | ../mzml_files/homoharringtonine_case_study/180410-KS-I-9-Dnew-2.mzML    | \n",
       "| 180410-KS-I-9-Dnew-3                                                    | D2O                                                                     | 21 days                                                                 | new growth                                                              | ../mzml_files/homoharringtonine_case_study/180410-KS-I-9-Dnew-3.mzML    | \n",
       "| 180410-KS-I-9-Dold-1                                                    | D2O                                                                     | 21 days                                                                 | old growth                                                              | ../mzml_files/homoharringtonine_case_study/180410-KS-I-9-Dold-1.mzML    | \n",
       "| 180410-KS-I-9-Dold-2                                                    | D2O                                                                     | 21 days                                                                 | old growth                                                              | ../mzml_files/homoharringtonine_case_study/180410-KS-I-9-Dold-2.mzML    | \n",
       "| 180410-KS-I-9-Dold-3                                                    | D2O                                                                     | 21 days                                                                 | old growth                                                              | ../mzml_files/homoharringtonine_case_study/180410-KS-I-9-Dold-3.mzML    | \n",
       "| 180412-KS-I-9-control-1                                                 | H2O                                                                     | 30 days                                                                 | new growth                                                              | ../mzml_files/homoharringtonine_case_study/180412-KS-I-9-control-1.mzML | \n",
       "| 180412-KS-I-9-control-2                                                 | H2O                                                                     | 30 days                                                                 | new growth                                                              | ../mzml_files/homoharringtonine_case_study/180412-KS-I-9-control-2.mzML | \n",
       "| 180412-KS-I-9-control-3                                                 | H2O                                                                     | 30 days                                                                 | new growth                                                              | ../mzml_files/homoharringtonine_case_study/180412-KS-I-9-control-3.mzML | \n",
       "| 180501-KS-I-17-Dnew-A                                                   | D2O                                                                     | 46 days                                                                 | new growth                                                              | ../mzml_files/homoharringtonine_case_study/180501-KS-I-17-Dnew-A.mzML   | \n",
       "| 180501-KS-I-17-Dnew-B                                                   | D2O                                                                     | 46 days                                                                 | new growth                                                              | ../mzml_files/homoharringtonine_case_study/180501-KS-I-17-Dnew-B.mzML   | \n",
       "| 180501-KS-I-17-Dnew-C                                                   | D2O                                                                     | 46 days                                                                 | new growth                                                              | ../mzml_files/homoharringtonine_case_study/180501-KS-I-17-Dnew-C.mzML   | \n",
       "| 180501-KS-I-17-Dold-A                                                   | D2O                                                                     | 46 days                                                                 | old growth                                                              | ../mzml_files/homoharringtonine_case_study/180501-KS-I-17-Dold-A.mzML   | \n",
       "| 180501-KS-I-17-Dold-B                                                   | D2O                                                                     | 46 days                                                                 | old growth                                                              | ../mzml_files/homoharringtonine_case_study/180501-KS-I-17-Dold-B.mzML   | \n",
       "| 180501-KS-I-17-Dold-C                                                   | D2O                                                                     | 46 days                                                                 | old growth                                                              | ../mzml_files/homoharringtonine_case_study/180501-KS-I-17-Dold-C.mzML   | \n",
       "\n",
       "\n"
      ],
      "text/plain": [
       "   sample_id               label growth_time tissue_type\n",
       "1  180410-KS-I-9-D1        D2O   14 days     new growth \n",
       "2  180410-KS-I-9-D2        D2O   14 days     new growth \n",
       "3  180410-KS-I-9-D3        D2O   14 days     new growth \n",
       "4  180410-KS-I-9-Dnew-1    D2O   21 days     new growth \n",
       "5  180410-KS-I-9-Dnew-2    D2O   21 days     new growth \n",
       "6  180410-KS-I-9-Dnew-3    D2O   21 days     new growth \n",
       "7  180410-KS-I-9-Dold-1    D2O   21 days     old growth \n",
       "8  180410-KS-I-9-Dold-2    D2O   21 days     old growth \n",
       "9  180410-KS-I-9-Dold-3    D2O   21 days     old growth \n",
       "10 180412-KS-I-9-control-1 H2O   30 days     new growth \n",
       "11 180412-KS-I-9-control-2 H2O   30 days     new growth \n",
       "12 180412-KS-I-9-control-3 H2O   30 days     new growth \n",
       "13 180501-KS-I-17-Dnew-A   D2O   46 days     new growth \n",
       "14 180501-KS-I-17-Dnew-B   D2O   46 days     new growth \n",
       "15 180501-KS-I-17-Dnew-C   D2O   46 days     new growth \n",
       "16 180501-KS-I-17-Dold-A   D2O   46 days     old growth \n",
       "17 180501-KS-I-17-Dold-B   D2O   46 days     old growth \n",
       "18 180501-KS-I-17-Dold-C   D2O   46 days     old growth \n",
       "   full_name                                                              \n",
       "1  ../mzml_files/homoharringtonine_case_study/180410-KS-I-9-D1.mzML       \n",
       "2  ../mzml_files/homoharringtonine_case_study/180410-KS-I-9-D2.mzML       \n",
       "3  ../mzml_files/homoharringtonine_case_study/180410-KS-I-9-D3.mzML       \n",
       "4  ../mzml_files/homoharringtonine_case_study/180410-KS-I-9-Dnew-1.mzML   \n",
       "5  ../mzml_files/homoharringtonine_case_study/180410-KS-I-9-Dnew-2.mzML   \n",
       "6  ../mzml_files/homoharringtonine_case_study/180410-KS-I-9-Dnew-3.mzML   \n",
       "7  ../mzml_files/homoharringtonine_case_study/180410-KS-I-9-Dold-1.mzML   \n",
       "8  ../mzml_files/homoharringtonine_case_study/180410-KS-I-9-Dold-2.mzML   \n",
       "9  ../mzml_files/homoharringtonine_case_study/180410-KS-I-9-Dold-3.mzML   \n",
       "10 ../mzml_files/homoharringtonine_case_study/180412-KS-I-9-control-1.mzML\n",
       "11 ../mzml_files/homoharringtonine_case_study/180412-KS-I-9-control-2.mzML\n",
       "12 ../mzml_files/homoharringtonine_case_study/180412-KS-I-9-control-3.mzML\n",
       "13 ../mzml_files/homoharringtonine_case_study/180501-KS-I-17-Dnew-A.mzML  \n",
       "14 ../mzml_files/homoharringtonine_case_study/180501-KS-I-17-Dnew-B.mzML  \n",
       "15 ../mzml_files/homoharringtonine_case_study/180501-KS-I-17-Dnew-C.mzML  \n",
       "16 ../mzml_files/homoharringtonine_case_study/180501-KS-I-17-Dold-A.mzML  \n",
       "17 ../mzml_files/homoharringtonine_case_study/180501-KS-I-17-Dold-B.mzML  \n",
       "18 ../mzml_files/homoharringtonine_case_study/180501-KS-I-17-Dold-C.mzML  "
      ]
     },
     "metadata": {},
     "output_type": "display_data"
    }
   ],
   "source": [
    "file_info"
   ]
  },
  {
   "cell_type": "code",
   "execution_count": 5,
   "metadata": {
    "scrolled": true
   },
   "outputs": [],
   "source": [
    "# xset <- xcmsSet(my_files, \n",
    "#                 method = \"centWave\", \n",
    "#                 ppm = 10, \n",
    "#                 mzdiff = -0.001, \n",
    "#                 peakwidth = c(7.5, 45))"
   ]
  },
  {
   "cell_type": "code",
   "execution_count": 6,
   "metadata": {},
   "outputs": [],
   "source": [
    "# save(xset, file = 'saved_data/homoharringtonine_xset.rdat')\n",
    "load('saved_data/homoharringtonine_xset.rdat')"
   ]
  },
  {
   "cell_type": "code",
   "execution_count": 7,
   "metadata": {},
   "outputs": [
    {
     "data": {
      "text/html": [
       "<ol class=list-inline>\n",
       "\t<li>homoharringtonine_case_study</li>\n",
       "\t<li>homoharringtonine_case_study</li>\n",
       "\t<li>homoharringtonine_case_study</li>\n",
       "\t<li>homoharringtonine_case_study</li>\n",
       "\t<li>homoharringtonine_case_study</li>\n",
       "\t<li>homoharringtonine_case_study</li>\n",
       "</ol>\n"
      ],
      "text/latex": [
       "\\begin{enumerate*}\n",
       "\\item homoharringtonine\\_case\\_study\n",
       "\\item homoharringtonine\\_case\\_study\n",
       "\\item homoharringtonine\\_case\\_study\n",
       "\\item homoharringtonine\\_case\\_study\n",
       "\\item homoharringtonine\\_case\\_study\n",
       "\\item homoharringtonine\\_case\\_study\n",
       "\\end{enumerate*}\n"
      ],
      "text/markdown": [
       "1. homoharringtonine_case_study\n",
       "2. homoharringtonine_case_study\n",
       "3. homoharringtonine_case_study\n",
       "4. homoharringtonine_case_study\n",
       "5. homoharringtonine_case_study\n",
       "6. homoharringtonine_case_study\n",
       "\n",
       "\n"
      ],
      "text/plain": [
       "[1] homoharringtonine_case_study homoharringtonine_case_study\n",
       "[3] homoharringtonine_case_study homoharringtonine_case_study\n",
       "[5] homoharringtonine_case_study homoharringtonine_case_study\n",
       "Levels: homoharringtonine_case_study"
      ]
     },
     "metadata": {},
     "output_type": "display_data"
    },
    {
     "data": {
      "text/html": [
       "<ol class=list-inline>\n",
       "\t<li>H2O</li>\n",
       "\t<li>H2O</li>\n",
       "\t<li>H2O</li>\n",
       "\t<li>D2O</li>\n",
       "\t<li>D2O</li>\n",
       "\t<li>D2O</li>\n",
       "</ol>\n"
      ],
      "text/latex": [
       "\\begin{enumerate*}\n",
       "\\item H2O\n",
       "\\item H2O\n",
       "\\item H2O\n",
       "\\item D2O\n",
       "\\item D2O\n",
       "\\item D2O\n",
       "\\end{enumerate*}\n"
      ],
      "text/markdown": [
       "1. H2O\n",
       "2. H2O\n",
       "3. H2O\n",
       "4. D2O\n",
       "5. D2O\n",
       "6. D2O\n",
       "\n",
       "\n"
      ],
      "text/plain": [
       "[1] H2O H2O H2O D2O D2O D2O\n",
       "Levels: H2O D2O"
      ]
     },
     "metadata": {},
     "output_type": "display_data"
    }
   ],
   "source": [
    "sampclass(xset)\n",
    "\n",
    "my_classes <- \n",
    "    file_info %>%\n",
    "    filter(str_detect(full_name, sample_id)) %>%  # check that full_names match sample_ids\n",
    "    filter(growth_time %in% c('30 days', '46 days'), tissue_type == 'new growth') %>%\n",
    "    pull(label) %>%\n",
    "    as.character\n",
    "    \n",
    "sampclass(xset) <- my_classes\n",
    "\n",
    "sampclass(xset)"
   ]
  },
  {
   "cell_type": "code",
   "execution_count": 8,
   "metadata": {},
   "outputs": [],
   "source": [
    "# xset.grgf <- \n",
    "#     xset %>% \n",
    "#     group(bw = 0.25, mzwid = 0.00538) %>%\n",
    "#     fillPeaks"
   ]
  },
  {
   "cell_type": "code",
   "execution_count": 9,
   "metadata": {
    "collapsed": true
   },
   "outputs": [],
   "source": [
    "# save(xset.grgf, file = 'saved_data/homoharringtonine_xset.grgf.rdat')\n",
    "load('saved_data/homoharringtonine_xset.grgf.rdat')"
   ]
  },
  {
   "cell_type": "code",
   "execution_count": 10,
   "metadata": {},
   "outputs": [
    {
     "data": {
      "text/plain": [
       "An \"xcmsSet\" object with 6 samples\n",
       "\n",
       "Time range: 4.5-1979.4 seconds (0.1-33 minutes)\n",
       "Mass range: 55.0176-1696.2442 m/z\n",
       "Peaks: 86314 (about 14386 per sample)\n",
       "Peak Groups: 10711 \n",
       "Sample classes: H2O, D2O \n",
       "\n",
       "Peak picking was performed on MS1.\n",
       "Profile settings: method = bin\n",
       "                  step = 0.1\n",
       "\n",
       "Memory usage: 9.18 MB"
      ]
     },
     "metadata": {},
     "output_type": "display_data"
    }
   ],
   "source": [
    "xset.grgf"
   ]
  },
  {
   "cell_type": "markdown",
   "metadata": {},
   "source": [
    "## Pairwise comparison of features to identify labeled metabolites"
   ]
  },
  {
   "cell_type": "code",
   "execution_count": 11,
   "metadata": {},
   "outputs": [
    {
     "name": "stderr",
     "output_type": "stream",
     "text": [
      "Loading required package: multtest\n",
      "Warning message in data.row.names(row.names, rowsi, i):\n",
      "“some row.names duplicated: 8,36,48,50,103,110,271,348,413,421,529,926,937,1392,1504,1600,1710,1887,1913,2045,2214,2289,2496,2498,2505,2507,2525,2528,2824,2858,2975,2996,3195,3214,3296,3300,3496,3503,3641,3643,3658,3734,3736,3799,4053,4068,4204,4328,4358,4467,4529,4570,4590,4597,4599,4915,4965,5049,5103,5109,5145,5199,5242,5287,5305,5641,5822,5839,5901,6009,6239,6242,6247,6248,6267,6317,6357,6384,6394,6413,6605,6606,6630,6638,6639,6643,6671,6837,6857,6905,7233,7239,7476,7496,7526,7531,7691,7776,7833,7926,7950,7984,7987,8013,8068,8227,8457,8699,8701,8703,8710,8758,8859,8872,8914,8928,8942,8950,9122,9352,9360,9367,9376,9382,9647,9793,9824,10202,10242,10250,10284,10588,10624 --> row.names NOT used”"
     ]
    }
   ],
   "source": [
    "feature_table <-\n",
    "    diffreport(xset.grgf, class1='H2O', class2='D2O')"
   ]
  },
  {
   "cell_type": "code",
   "execution_count": 12,
   "metadata": {},
   "outputs": [],
   "source": [
    "data_cols <- \n",
    "    feature_table %>%\n",
    "    names %>%\n",
    "    {. %in% (file_info %>% pull(sample_id))} %>%\n",
    "    which\n",
    "\n",
    "long_table <-\n",
    "    feature_table %>%\n",
    "    gather(sample_id, intensity, data_cols) %>%\n",
    "    left_join(file_info, by=c('sample_id')) %>%\n",
    "    select(name, fold, tstat, pvalue, mzmed, rtmed, sample_id, label, intensity)\n",
    "\n",
    "filtered_table <-\n",
    "    long_table %>%\n",
    "    group_by(name, fold, tstat, pvalue, mzmed, rtmed) %>%\n",
    "    mutate(max_intensity = max(intensity)) %>%\n",
    "    arrange(name) %>% \n",
    "    filter(max_intensity > 30000, rtmed > 180, rtmed < 1300) %>%\n",
    "    arrange(-fold)\n",
    "\n",
    "summary_table <-\n",
    "    filtered_table %>%\n",
    "    group_by(name, fold, tstat, pvalue, mzmed, rtmed, max_intensity, label) %>%\n",
    "    summarize(mean_intensity = mean(intensity)) %>%\n",
    "    spread(label, mean_intensity)\n",
    "    "
   ]
  },
  {
   "cell_type": "code",
   "execution_count": 13,
   "metadata": {},
   "outputs": [
    {
     "data": {
      "text/html": [
       "1563796"
      ],
      "text/latex": [
       "1563796"
      ],
      "text/markdown": [
       "1563796"
      ],
      "text/plain": [
       "[1] 1563796"
      ]
     },
     "metadata": {},
     "output_type": "display_data"
    },
    {
     "data": {
      "text/html": [
       "1769"
      ],
      "text/latex": [
       "1769"
      ],
      "text/markdown": [
       "1769"
      ],
      "text/plain": [
       "[1] 1769"
      ]
     },
     "metadata": {},
     "output_type": "display_data"
    }
   ],
   "source": [
    "n_feat <- filtered_table %>% filter(mzmed <= 700) %>% pull(name) %>% unique %>% length\n",
    "\n",
    "n_feat * (n_feat -1) / 2\n",
    "\n",
    "n_feat"
   ]
  },
  {
   "cell_type": "markdown",
   "metadata": {},
   "source": [
    "Thus, there are 1769 features, and 1,563,796 feature pairs considered in this analysis. "
   ]
  },
  {
   "cell_type": "code",
   "execution_count": 14,
   "metadata": {},
   "outputs": [
    {
     "data": {
      "text/html": [
       "<table>\n",
       "<thead><tr><th scope=col>name</th><th scope=col>fold</th><th scope=col>tstat</th><th scope=col>pvalue</th><th scope=col>mzmed</th><th scope=col>rtmed</th><th scope=col>max_intensity</th><th scope=col>D2O</th><th scope=col>H2O</th></tr></thead>\n",
       "<tbody>\n",
       "\t<tr><td>M1013T551  </td><td>3.655129   </td><td>-10.8584841</td><td>0.001065772</td><td>1013.270   </td><td>550.8630   </td><td> 66170.98  </td><td>16856.17   </td><td> 61611.47  </td></tr>\n",
       "\t<tr><td>M1014T549  </td><td>1.061625   </td><td>  0.2277936</td><td>0.831848485</td><td>1014.274   </td><td>548.6230   </td><td> 53387.52  </td><td>39882.77   </td><td> 37567.66  </td></tr>\n",
       "\t<tr><td>M1015T547  </td><td>3.159608   </td><td>  3.9254515</td><td>0.050876720</td><td>1015.280   </td><td>546.9710   </td><td> 52756.07  </td><td>40400.21   </td><td> 12786.46  </td></tr>\n",
       "\t<tr><td>M1025T837  </td><td>5.457970   </td><td> -2.3778881</td><td>0.140136690</td><td>1025.460   </td><td>837.0215   </td><td>250458.93  </td><td>27214.40   </td><td>148535.37  </td></tr>\n",
       "\t<tr><td>M1026T836  </td><td>1.503680   </td><td> -0.9637558</td><td>0.431157618</td><td>1026.466   </td><td>836.4460   </td><td>151778.50  </td><td>59967.96   </td><td> 90172.61  </td></tr>\n",
       "\t<tr><td>M1027T837  </td><td>2.015159   </td><td>  2.7425298</td><td>0.067854804</td><td>1027.467   </td><td>836.8890   </td><td> 77927.90  </td><td>66120.20   </td><td> 32811.41  </td></tr>\n",
       "</tbody>\n",
       "</table>\n"
      ],
      "text/latex": [
       "\\begin{tabular}{r|lllllllll}\n",
       " name & fold & tstat & pvalue & mzmed & rtmed & max\\_intensity & D2O & H2O\\\\\n",
       "\\hline\n",
       "\t M1013T551   & 3.655129    & -10.8584841 & 0.001065772 & 1013.270    & 550.8630    &  66170.98   & 16856.17    &  61611.47  \\\\\n",
       "\t M1014T549   & 1.061625    &   0.2277936 & 0.831848485 & 1014.274    & 548.6230    &  53387.52   & 39882.77    &  37567.66  \\\\\n",
       "\t M1015T547   & 3.159608    &   3.9254515 & 0.050876720 & 1015.280    & 546.9710    &  52756.07   & 40400.21    &  12786.46  \\\\\n",
       "\t M1025T837   & 5.457970    &  -2.3778881 & 0.140136690 & 1025.460    & 837.0215    & 250458.93   & 27214.40    & 148535.37  \\\\\n",
       "\t M1026T836   & 1.503680    &  -0.9637558 & 0.431157618 & 1026.466    & 836.4460    & 151778.50   & 59967.96    &  90172.61  \\\\\n",
       "\t M1027T837   & 2.015159    &   2.7425298 & 0.067854804 & 1027.467    & 836.8890    &  77927.90   & 66120.20    &  32811.41  \\\\\n",
       "\\end{tabular}\n"
      ],
      "text/markdown": [
       "\n",
       "name | fold | tstat | pvalue | mzmed | rtmed | max_intensity | D2O | H2O | \n",
       "|---|---|---|---|---|---|\n",
       "| M1013T551   | 3.655129    | -10.8584841 | 0.001065772 | 1013.270    | 550.8630    |  66170.98   | 16856.17    |  61611.47   | \n",
       "| M1014T549   | 1.061625    |   0.2277936 | 0.831848485 | 1014.274    | 548.6230    |  53387.52   | 39882.77    |  37567.66   | \n",
       "| M1015T547   | 3.159608    |   3.9254515 | 0.050876720 | 1015.280    | 546.9710    |  52756.07   | 40400.21    |  12786.46   | \n",
       "| M1025T837   | 5.457970    |  -2.3778881 | 0.140136690 | 1025.460    | 837.0215    | 250458.93   | 27214.40    | 148535.37   | \n",
       "| M1026T836   | 1.503680    |  -0.9637558 | 0.431157618 | 1026.466    | 836.4460    | 151778.50   | 59967.96    |  90172.61   | \n",
       "| M1027T837   | 2.015159    |   2.7425298 | 0.067854804 | 1027.467    | 836.8890    |  77927.90   | 66120.20    |  32811.41   | \n",
       "\n",
       "\n"
      ],
      "text/plain": [
       "  name      fold     tstat       pvalue      mzmed    rtmed    max_intensity\n",
       "1 M1013T551 3.655129 -10.8584841 0.001065772 1013.270 550.8630  66170.98    \n",
       "2 M1014T549 1.061625   0.2277936 0.831848485 1014.274 548.6230  53387.52    \n",
       "3 M1015T547 3.159608   3.9254515 0.050876720 1015.280 546.9710  52756.07    \n",
       "4 M1025T837 5.457970  -2.3778881 0.140136690 1025.460 837.0215 250458.93    \n",
       "5 M1026T836 1.503680  -0.9637558 0.431157618 1026.466 836.4460 151778.50    \n",
       "6 M1027T837 2.015159   2.7425298 0.067854804 1027.467 836.8890  77927.90    \n",
       "  D2O      H2O      \n",
       "1 16856.17  61611.47\n",
       "2 39882.77  37567.66\n",
       "3 40400.21  12786.46\n",
       "4 27214.40 148535.37\n",
       "5 59967.96  90172.61\n",
       "6 66120.20  32811.41"
      ]
     },
     "metadata": {},
     "output_type": "display_data"
    },
    {
     "data": {
      "text/html": [
       "<ol class=list-inline>\n",
       "\t<li>1973</li>\n",
       "\t<li>9</li>\n",
       "</ol>\n"
      ],
      "text/latex": [
       "\\begin{enumerate*}\n",
       "\\item 1973\n",
       "\\item 9\n",
       "\\end{enumerate*}\n"
      ],
      "text/markdown": [
       "1. 1973\n",
       "2. 9\n",
       "\n",
       "\n"
      ],
      "text/plain": [
       "[1] 1973    9"
      ]
     },
     "metadata": {},
     "output_type": "display_data"
    }
   ],
   "source": [
    "summary_table %>% head\n",
    "summary_table %>% dim"
   ]
  },
  {
   "cell_type": "markdown",
   "metadata": {},
   "source": [
    "The summary table doesn't yet apply the m/z filter of <= 700 Da; this is done below."
   ]
  },
  {
   "cell_type": "code",
   "execution_count": 15,
   "metadata": {},
   "outputs": [
    {
     "data": {
      "text/html": [
       "<ol class=list-inline>\n",
       "\t<li>1.00627674573</li>\n",
       "\t<li>2.01255349146</li>\n",
       "\t<li>3.01883023719</li>\n",
       "\t<li>4.02510698292</li>\n",
       "</ol>\n"
      ],
      "text/latex": [
       "\\begin{enumerate*}\n",
       "\\item 1.00627674573\n",
       "\\item 2.01255349146\n",
       "\\item 3.01883023719\n",
       "\\item 4.02510698292\n",
       "\\end{enumerate*}\n"
      ],
      "text/markdown": [
       "1. 1.00627674573\n",
       "2. 2.01255349146\n",
       "3. 3.01883023719\n",
       "4. 4.02510698292\n",
       "\n",
       "\n"
      ],
      "text/plain": [
       "[1] 1.006277 2.012553 3.018830 4.025107"
      ]
     },
     "metadata": {},
     "output_type": "display_data"
    }
   ],
   "source": [
    "D_NEUTRON <- ecipex('H')[[1]]$mass %>% diff\n",
    "mass_diffs <- outer(c(1, 2, 3, 4), D_NEUTRON\n",
    "                   ) %>% as.numeric %>% sort\n",
    "\n",
    "mass_diffs\n",
    "\n",
    "diff_ppm <- 10"
   ]
  },
  {
   "cell_type": "code",
   "execution_count": 16,
   "metadata": {},
   "outputs": [],
   "source": [
    "# find feature pairs with the same RT and \n",
    "# m/z values differing by a integer multiple of D_NEUTRON mass\n",
    "feature_pairs <-\n",
    "    summary_table %>%\n",
    "        ungroup %>%\n",
    "        mutate(foo = 1) %>%\n",
    "        mutate(mzmed <= 700) %>%   # focus on small molecules\n",
    "        left_join(., ., by='foo') %>%  # form all feature pairs\n",
    "        filter(mzmed.x < mzmed.y,  # \".x\" is light feature, \".y\" is heavy\n",
    "               abs(rtmed.x - rtmed.y) <= 3,  # features must coelute\n",
    "               sign(tstat.x) != sign(tstat.y)) %>%  # and change in opposite direction\n",
    "        rowwise %>%\n",
    "        mutate(mz_diff = abs(mzmed.x - mzmed.y), \n",
    "               # mz_diff must be within tolerance of integer D_NEUTRONS\n",
    "               ppm = min(abs(mz_diff - mass_diffs) / mzmed.x * 1e6)) %>% \n",
    "        select(name.x, name.y, \n",
    "               mzmed.x, mzmed.y, \n",
    "               rtmed.x, rtmed.y,\n",
    "               fold.x, fold.y,\n",
    "               pvalue.x, pvalue.y,\n",
    "               tstat.x, tstat.y,\n",
    "               mz_diff, ppm,\n",
    "               max_intensity.x, max_intensity.y, \n",
    "               H2O.x, H2O.y, D2O.x, D2O.y) %>%\n",
    "        filter(ppm <= diff_ppm) %>%\n",
    "        arrange(-fold.y) \n"
   ]
  },
  {
   "cell_type": "code",
   "execution_count": 17,
   "metadata": {},
   "outputs": [
    {
     "data": {
      "text/html": [
       "<ol class=list-inline>\n",
       "\t<li>M502T837_1</li>\n",
       "\t<li>M516T931_1</li>\n",
       "\t<li>M530T1065_1</li>\n",
       "\t<li>M611T848_1</li>\n",
       "\t<li>M433T969_1</li>\n",
       "\t<li>M633T848</li>\n",
       "\t<li>M619T1106</li>\n",
       "\t<li>M205T219</li>\n",
       "\t<li>M595T920</li>\n",
       "\t<li>M538T932</li>\n",
       "\t<li>M536T876_1</li>\n",
       "\t<li>M449T970</li>\n",
       "\t<li>M532T628</li>\n",
       "\t<li>M517T931_1</li>\n",
       "\t<li>M667T1131</li>\n",
       "\t<li>M532T574_1</li>\n",
       "\t<li>M449T952</li>\n",
       "\t<li>M163T380</li>\n",
       "\t<li>M139T631</li>\n",
       "\t<li>M310T1106_1</li>\n",
       "</ol>\n"
      ],
      "text/latex": [
       "\\begin{enumerate*}\n",
       "\\item M502T837\\_1\n",
       "\\item M516T931\\_1\n",
       "\\item M530T1065\\_1\n",
       "\\item M611T848\\_1\n",
       "\\item M433T969\\_1\n",
       "\\item M633T848\n",
       "\\item M619T1106\n",
       "\\item M205T219\n",
       "\\item M595T920\n",
       "\\item M538T932\n",
       "\\item M536T876\\_1\n",
       "\\item M449T970\n",
       "\\item M532T628\n",
       "\\item M517T931\\_1\n",
       "\\item M667T1131\n",
       "\\item M532T574\\_1\n",
       "\\item M449T952\n",
       "\\item M163T380\n",
       "\\item M139T631\n",
       "\\item M310T1106\\_1\n",
       "\\end{enumerate*}\n"
      ],
      "text/markdown": [
       "1. M502T837_1\n",
       "2. M516T931_1\n",
       "3. M530T1065_1\n",
       "4. M611T848_1\n",
       "5. M433T969_1\n",
       "6. M633T848\n",
       "7. M619T1106\n",
       "8. M205T219\n",
       "9. M595T920\n",
       "10. M538T932\n",
       "11. M536T876_1\n",
       "12. M449T970\n",
       "13. M532T628\n",
       "14. M517T931_1\n",
       "15. M667T1131\n",
       "16. M532T574_1\n",
       "17. M449T952\n",
       "18. M163T380\n",
       "19. M139T631\n",
       "20. M310T1106_1\n",
       "\n",
       "\n"
      ],
      "text/plain": [
       " [1] M502T837_1  M516T931_1  M530T1065_1 M611T848_1  M433T969_1  M633T848   \n",
       " [7] M619T1106   M205T219    M595T920    M538T932    M536T876_1  M449T970   \n",
       "[13] M532T628    M517T931_1  M667T1131   M532T574_1  M449T952    M163T380   \n",
       "[19] M139T631    M310T1106_1\n",
       "10711 Levels: M1001T1483 M1001T1486 M1007T1484 M1007T870 M1008T1486 ... M99T81"
      ]
     },
     "metadata": {},
     "output_type": "display_data"
    }
   ],
   "source": [
    "kept_features <- feature_pairs %>%\n",
    "    filter(fold.y > 3, mzmed.y <= 700) %>%\n",
    "    mutate(scorer = sqrt(rank(fold.y / mzmed.x) * rank(max_intensity.x))) %>%\n",
    "    arrange(-scorer) %>%\n",
    "    pull(name.x) %>%\n",
    "    unique %>%\n",
    "    head(20) \n",
    "\n",
    "kept_features"
   ]
  },
  {
   "cell_type": "code",
   "execution_count": 18,
   "metadata": {},
   "outputs": [
    {
     "data": {
      "text/html": [
       "<table>\n",
       "<thead><tr><th scope=col>name</th><th scope=col>mz</th><th scope=col>rtmed</th></tr></thead>\n",
       "<tbody>\n",
       "\t<tr><td>M139T631   </td><td>139.0390   </td><td> 630.7015  </td></tr>\n",
       "\t<tr><td>M163T380   </td><td>163.0389   </td><td> 379.8600  </td></tr>\n",
       "\t<tr><td>M205T219   </td><td>205.0971   </td><td> 219.3525  </td></tr>\n",
       "\t<tr><td>M310T1106_1</td><td>310.1414   </td><td>1106.3855  </td></tr>\n",
       "\t<tr><td>M433T969_1 </td><td>433.1128   </td><td> 969.0695  </td></tr>\n",
       "\t<tr><td>M449T970   </td><td>449.1078   </td><td> 969.8895  </td></tr>\n",
       "\t<tr><td>M449T952   </td><td>449.1081   </td><td> 951.5760  </td></tr>\n",
       "\t<tr><td>M502T837_1 </td><td>502.2441   </td><td> 837.0370  </td></tr>\n",
       "\t<tr><td>M516T931_1 </td><td>516.2601   </td><td> 931.2800  </td></tr>\n",
       "\t<tr><td>M517T931_1 </td><td>516.5476   </td><td> 930.5555  </td></tr>\n",
       "\t<tr><td>M530T1065_1</td><td>530.2754   </td><td>1065.3245  </td></tr>\n",
       "\t<tr><td>M532T574_1 </td><td>532.2539   </td><td> 574.2405  </td></tr>\n",
       "\t<tr><td>M532T628   </td><td>532.2541   </td><td> 628.4490  </td></tr>\n",
       "\t<tr><td>M536T876_1 </td><td>536.2282   </td><td> 876.0080  </td></tr>\n",
       "\t<tr><td>M538T932   </td><td>538.2409   </td><td> 931.6340  </td></tr>\n",
       "\t<tr><td>M595T920   </td><td>595.1655   </td><td> 920.3970  </td></tr>\n",
       "\t<tr><td>M611T848_1 </td><td>611.1613   </td><td> 848.3725  </td></tr>\n",
       "\t<tr><td>M619T1106  </td><td>619.2758   </td><td>1106.3855  </td></tr>\n",
       "\t<tr><td>M633T848   </td><td>633.1430   </td><td> 848.3725  </td></tr>\n",
       "\t<tr><td>M667T1131  </td><td>667.2229   </td><td>1131.4115  </td></tr>\n",
       "</tbody>\n",
       "</table>\n"
      ],
      "text/latex": [
       "\\begin{tabular}{r|lll}\n",
       " name & mz & rtmed\\\\\n",
       "\\hline\n",
       "\t M139T631    & 139.0390    &  630.7015  \\\\\n",
       "\t M163T380    & 163.0389    &  379.8600  \\\\\n",
       "\t M205T219    & 205.0971    &  219.3525  \\\\\n",
       "\t M310T1106\\_1 & 310.1414      & 1106.3855    \\\\\n",
       "\t M433T969\\_1  & 433.1128      &  969.0695    \\\\\n",
       "\t M449T970    & 449.1078    &  969.8895  \\\\\n",
       "\t M449T952    & 449.1081    &  951.5760  \\\\\n",
       "\t M502T837\\_1  & 502.2441      &  837.0370    \\\\\n",
       "\t M516T931\\_1  & 516.2601      &  931.2800    \\\\\n",
       "\t M517T931\\_1  & 516.5476      &  930.5555    \\\\\n",
       "\t M530T1065\\_1 & 530.2754      & 1065.3245    \\\\\n",
       "\t M532T574\\_1  & 532.2539      &  574.2405    \\\\\n",
       "\t M532T628    & 532.2541    &  628.4490  \\\\\n",
       "\t M536T876\\_1  & 536.2282      &  876.0080    \\\\\n",
       "\t M538T932    & 538.2409    &  931.6340  \\\\\n",
       "\t M595T920    & 595.1655    &  920.3970  \\\\\n",
       "\t M611T848\\_1  & 611.1613      &  848.3725    \\\\\n",
       "\t M619T1106   & 619.2758    & 1106.3855  \\\\\n",
       "\t M633T848    & 633.1430    &  848.3725  \\\\\n",
       "\t M667T1131   & 667.2229    & 1131.4115  \\\\\n",
       "\\end{tabular}\n"
      ],
      "text/markdown": [
       "\n",
       "name | mz | rtmed | \n",
       "|---|---|---|---|---|---|---|---|---|---|---|---|---|---|---|---|---|---|---|---|\n",
       "| M139T631    | 139.0390    |  630.7015   | \n",
       "| M163T380    | 163.0389    |  379.8600   | \n",
       "| M205T219    | 205.0971    |  219.3525   | \n",
       "| M310T1106_1 | 310.1414    | 1106.3855   | \n",
       "| M433T969_1  | 433.1128    |  969.0695   | \n",
       "| M449T970    | 449.1078    |  969.8895   | \n",
       "| M449T952    | 449.1081    |  951.5760   | \n",
       "| M502T837_1  | 502.2441    |  837.0370   | \n",
       "| M516T931_1  | 516.2601    |  931.2800   | \n",
       "| M517T931_1  | 516.5476    |  930.5555   | \n",
       "| M530T1065_1 | 530.2754    | 1065.3245   | \n",
       "| M532T574_1  | 532.2539    |  574.2405   | \n",
       "| M532T628    | 532.2541    |  628.4490   | \n",
       "| M536T876_1  | 536.2282    |  876.0080   | \n",
       "| M538T932    | 538.2409    |  931.6340   | \n",
       "| M595T920    | 595.1655    |  920.3970   | \n",
       "| M611T848_1  | 611.1613    |  848.3725   | \n",
       "| M619T1106   | 619.2758    | 1106.3855   | \n",
       "| M633T848    | 633.1430    |  848.3725   | \n",
       "| M667T1131   | 667.2229    | 1131.4115   | \n",
       "\n",
       "\n"
      ],
      "text/plain": [
       "   name        mz       rtmed    \n",
       "1  M139T631    139.0390  630.7015\n",
       "2  M163T380    163.0389  379.8600\n",
       "3  M205T219    205.0971  219.3525\n",
       "4  M310T1106_1 310.1414 1106.3855\n",
       "5  M433T969_1  433.1128  969.0695\n",
       "6  M449T970    449.1078  969.8895\n",
       "7  M449T952    449.1081  951.5760\n",
       "8  M502T837_1  502.2441  837.0370\n",
       "9  M516T931_1  516.2601  931.2800\n",
       "10 M517T931_1  516.5476  930.5555\n",
       "11 M530T1065_1 530.2754 1065.3245\n",
       "12 M532T574_1  532.2539  574.2405\n",
       "13 M532T628    532.2541  628.4490\n",
       "14 M536T876_1  536.2282  876.0080\n",
       "15 M538T932    538.2409  931.6340\n",
       "16 M595T920    595.1655  920.3970\n",
       "17 M611T848_1  611.1613  848.3725\n",
       "18 M619T1106   619.2758 1106.3855\n",
       "19 M633T848    633.1430  848.3725\n",
       "20 M667T1131   667.2229 1131.4115"
      ]
     },
     "metadata": {},
     "output_type": "display_data"
    },
    {
     "name": "stderr",
     "output_type": "stream",
     "text": [
      "Parsed with column specification:\n",
      "cols(\n",
      "  name = col_character(),\n",
      "  mz = col_double(),\n",
      "  rtmed = col_double(),\n",
      "  manual_rt_min = col_double(),\n",
      "  manual_rt_max = col_double(),\n",
      "  manual_span = col_integer(),\n",
      "  charge = col_integer(),\n",
      "  formula = col_character()\n",
      ")\n"
     ]
    },
    {
     "data": {
      "text/html": [
       "<ol class=list-inline>\n",
       "\t<li>'M139T631'</li>\n",
       "\t<li>'M163T380'</li>\n",
       "\t<li>'M205T219'</li>\n",
       "\t<li>'M310T1106_1'</li>\n",
       "\t<li>'M433T969_1'</li>\n",
       "\t<li>'M449T970'</li>\n",
       "\t<li>'M449T952'</li>\n",
       "\t<li>'M502T837_1'</li>\n",
       "\t<li>'M516T931_1'</li>\n",
       "</ol>\n"
      ],
      "text/latex": [
       "\\begin{enumerate*}\n",
       "\\item 'M139T631'\n",
       "\\item 'M163T380'\n",
       "\\item 'M205T219'\n",
       "\\item 'M310T1106\\_1'\n",
       "\\item 'M433T969\\_1'\n",
       "\\item 'M449T970'\n",
       "\\item 'M449T952'\n",
       "\\item 'M502T837\\_1'\n",
       "\\item 'M516T931\\_1'\n",
       "\\end{enumerate*}\n"
      ],
      "text/markdown": [
       "1. 'M139T631'\n",
       "2. 'M163T380'\n",
       "3. 'M205T219'\n",
       "4. 'M310T1106_1'\n",
       "5. 'M433T969_1'\n",
       "6. 'M449T970'\n",
       "7. 'M449T952'\n",
       "8. 'M502T837_1'\n",
       "9. 'M516T931_1'\n",
       "\n",
       "\n"
      ],
      "text/plain": [
       "[1] \"M139T631\"    \"M163T380\"    \"M205T219\"    \"M310T1106_1\" \"M433T969_1\" \n",
       "[6] \"M449T970\"    \"M449T952\"    \"M502T837_1\"  \"M516T931_1\" "
      ]
     },
     "metadata": {},
     "output_type": "display_data"
    }
   ],
   "source": [
    "top_20_hits <-\n",
    "    feature_table %>%\n",
    "    filter(name %in% kept_features) %>%\n",
    "    select(name, mz=mzmed, rtmed) %>%\n",
    "    arrange(mz)\n",
    "\n",
    "top_20_hits \n",
    "\n",
    "top_20_hits %>%\n",
    "    write_csv('saved_data/top_20_labeled_features_homoharringtonine.csv')\n",
    "\n",
    "top_20_hits_manual <- read_csv('saved_data/top_20_labeled_features_homoharringtonine_manual_annot.csv')\n",
    "\n",
    "top_hit_names <- \n",
    "    top_20_hits_manual %>%\n",
    "    na.omit() %>%\n",
    "    pull(name)\n",
    "\n",
    "top_hit_names"
   ]
  },
  {
   "cell_type": "code",
   "execution_count": 19,
   "metadata": {},
   "outputs": [
    {
     "name": "stderr",
     "output_type": "stream",
     "text": [
      "Warning message:\n",
      "“Removed 73 rows containing missing values (geom_point).”"
     ]
    },
    {
     "data": {},
     "metadata": {},
     "output_type": "display_data"
    },
    {
     "name": "stderr",
     "output_type": "stream",
     "text": [
      "Warning message in dir.create(\"~/Box/2018_D2O_manuscript/figures/untarg_analysis\"):\n",
      "“'/Users/curt/Box/2018_D2O_manuscript/figures/untarg_analysis' already exists”Warning message:\n",
      "“Removed 73 rows containing missing values (geom_point).”"
     ]
    },
    {
     "data": {
      "image/png": "[encoded data removed]",
      "text/plain": [
       "plot without title"
      ]
     },
     "metadata": {},
     "output_type": "display_data"
    }
   ],
   "source": [
    "options(repr.plot.width=6, repr.plot.height=3)\n",
    "feature_pairs %>%\n",
    "    mutate(is_top_hit = name.x %in% top_hit_names) %>%\n",
    "    arrange(fold.y) %>%\n",
    "    ggplot(aes(x=rtmed.x/60, \n",
    "               y=mzmed.x, \n",
    "               fill=fold.y, \n",
    "               size=max_intensity.x, \n",
    "               alpha=fold.y,\n",
    "               shape=is_top_hit)) +\n",
    "        geom_point() +\n",
    "        scale_shape_manual(values = c(21, 23), guide=guide_legend('none')) +\n",
    "        scale_alpha_continuous(name = 'fold-change\\nin heavy feature', range=c(0.3, 0.8)) +\n",
    "        scale_fill_viridis(direction = -1, name = 'fold-change\\nin heavy feature', trans = 'log10') +\n",
    "        scale_color_continuous(name = 'fold-change\\nin heavy feature') +\n",
    "        scale_size_continuous(range = c(2, 6), limits=c(1e5, 1e8), name = 'intensity', trans='log10') +\n",
    "        theme_minimal() +\n",
    "        theme(panel.grid = element_blank()) +\n",
    "        ylab('m/z, Th') +\n",
    "        xlab('retention time, min')\n",
    "\n",
    "dir.create('~/Box/2018_D2O_manuscript/figures/untarg_analysis')\n",
    "ggsave('~/Box/2018_D2O_manuscript/figures/untarg_analysis/xcms_plot.pdf', width=6, height=3)"
   ]
  },
  {
   "cell_type": "markdown",
   "metadata": {},
   "source": [
    "The plot above is essentially a subigure in the paper. The version in the paper has been lightly edited in Illustrator to clean up legends, etc."
   ]
  },
  {
   "cell_type": "code",
   "execution_count": 20,
   "metadata": {},
   "outputs": [
    {
     "data": {
      "text/html": [
       "<table>\n",
       "<thead><tr><th scope=col>name.x</th><th scope=col>mzmed.x</th><th scope=col>rtmed</th></tr></thead>\n",
       "<tbody>\n",
       "\t<tr><td>M139T631   </td><td>139.0390   </td><td>10.511692  </td></tr>\n",
       "\t<tr><td>M163T380   </td><td>163.0389   </td><td> 6.331000  </td></tr>\n",
       "\t<tr><td>M205T219   </td><td>205.0971   </td><td> 3.655875  </td></tr>\n",
       "\t<tr><td>M310T1106_1</td><td>310.1414   </td><td>18.439758  </td></tr>\n",
       "\t<tr><td>M433T969_1 </td><td>433.1128   </td><td>16.151158  </td></tr>\n",
       "\t<tr><td>M449T970   </td><td>449.1078   </td><td>16.164825  </td></tr>\n",
       "\t<tr><td>M449T952   </td><td>449.1081   </td><td>15.859600  </td></tr>\n",
       "\t<tr><td>M502T837_1 </td><td>502.2441   </td><td>13.950617  </td></tr>\n",
       "\t<tr><td>M516T931_1 </td><td>516.2601   </td><td>15.521333  </td></tr>\n",
       "</tbody>\n",
       "</table>\n"
      ],
      "text/latex": [
       "\\begin{tabular}{r|lll}\n",
       " name.x & mzmed.x & rtmed\\\\\n",
       "\\hline\n",
       "\t M139T631    & 139.0390    & 10.511692  \\\\\n",
       "\t M163T380    & 163.0389    &  6.331000  \\\\\n",
       "\t M205T219    & 205.0971    &  3.655875  \\\\\n",
       "\t M310T1106\\_1 & 310.1414      & 18.439758    \\\\\n",
       "\t M433T969\\_1  & 433.1128      & 16.151158    \\\\\n",
       "\t M449T970    & 449.1078    & 16.164825  \\\\\n",
       "\t M449T952    & 449.1081    & 15.859600  \\\\\n",
       "\t M502T837\\_1  & 502.2441      & 13.950617    \\\\\n",
       "\t M516T931\\_1  & 516.2601      & 15.521333    \\\\\n",
       "\\end{tabular}\n"
      ],
      "text/markdown": [
       "\n",
       "name.x | mzmed.x | rtmed | \n",
       "|---|---|---|---|---|---|---|---|---|\n",
       "| M139T631    | 139.0390    | 10.511692   | \n",
       "| M163T380    | 163.0389    |  6.331000   | \n",
       "| M205T219    | 205.0971    |  3.655875   | \n",
       "| M310T1106_1 | 310.1414    | 18.439758   | \n",
       "| M433T969_1  | 433.1128    | 16.151158   | \n",
       "| M449T970    | 449.1078    | 16.164825   | \n",
       "| M449T952    | 449.1081    | 15.859600   | \n",
       "| M502T837_1  | 502.2441    | 13.950617   | \n",
       "| M516T931_1  | 516.2601    | 15.521333   | \n",
       "\n",
       "\n"
      ],
      "text/plain": [
       "  name.x      mzmed.x  rtmed    \n",
       "1 M139T631    139.0390 10.511692\n",
       "2 M163T380    163.0389  6.331000\n",
       "3 M205T219    205.0971  3.655875\n",
       "4 M310T1106_1 310.1414 18.439758\n",
       "5 M433T969_1  433.1128 16.151158\n",
       "6 M449T970    449.1078 16.164825\n",
       "7 M449T952    449.1081 15.859600\n",
       "8 M502T837_1  502.2441 13.950617\n",
       "9 M516T931_1  516.2601 15.521333"
      ]
     },
     "metadata": {},
     "output_type": "display_data"
    }
   ],
   "source": [
    "top_hits <- feature_pairs %>%\n",
    "    mutate(is_top_hit = name.x %in% top_hit_names) %>%\n",
    "    filter(is_top_hit) %>%\n",
    "    ungroup %>%\n",
    "    select(name.x, mzmed.x, rtmed.x) %>%\n",
    "    distinct %>%\n",
    "    mutate(rtmed = rtmed.x / 60) %>%\n",
    "    select(-rtmed.x) %>%\n",
    "    arrange(mzmed.x)\n",
    "\n",
    "top_hits"
   ]
  }
 ],
 "metadata": {
  "kernelspec": {
   "display_name": "R 3.3",
   "language": "R",
   "name": "ir33"
  },
  "language_info": {
   "codemirror_mode": "r",
   "file_extension": ".r",
   "mimetype": "text/x-r-source",
   "name": "R",
   "pygments_lexer": "r",
   "version": "3.3.2"
  }
 },
 "nbformat": 4,
 "nbformat_minor": 1
}
