{
 "cells": [
  {
   "cell_type": "code",
   "execution_count": 1,
   "metadata": {
    "collapsed": false
   },
   "outputs": [
    {
     "name": "stderr",
     "output_type": "stream",
     "text": [
      "Loading required package: tidyverse\n",
      "── Attaching packages ─────────────────────────────────────── tidyverse 1.2.1 ──\n",
      "✔ ggplot2 2.2.1     ✔ purrr   0.2.4\n",
      "✔ tibble  1.4.1     ✔ dplyr   0.7.4\n",
      "✔ tidyr   0.7.2     ✔ stringr 1.2.0\n",
      "✔ readr   1.1.1     ✔ forcats 0.2.0\n",
      "── Conflicts ────────────────────────────────────────── tidyverse_conflicts() ──\n",
      "✖ dplyr::filter() masks stats::filter()\n",
      "✖ dplyr::lag()    masks stats::lag()\n",
      "Loading required package: janitor\n",
      "Loading required package: viridis\n",
      "Loading required package: viridisLite\n"
     ]
    }
   ],
   "source": [
    "require(tidyverse)\n",
    "require(stringr)\n",
    "require(janitor)\n",
    "require(forcats)\n",
    "require(viridis)"
   ]
  },
  {
   "cell_type": "markdown",
   "metadata": {},
   "source": [
    "# Overview\n",
    "\n",
    "This notebook contains R code for batch plotting of MIDs from example files.  It works by:\n",
    "\n",
    "1. importing a smallish .csv file created to list, row-by-row, a name, monoisotopic `mz`, manually specified RT window (`manual_rt_min` and `manual_rt_max`), a manually specified max number of heavy neutrons to consider (`manual_span`), and a `charge` for the ion of interest.\n",
    "\n",
    "2. From this file, generate a list of independent command-line calls to `python get_MID.py`.\n",
    "  * Also at this step, the notebook creates directories for storing the .csv files from the next step in a meaningful directory structure.\n",
    "\n",
    "3. Using R's `system()` command, execute these calls.\n",
    "\n",
    "4. Read the resulting .csv files into a single dataframe.\n",
    "\n",
    "5. Plot the results with `ggplot()`.\n",
    "\n",
    "\n",
    "* Caveat: no effort has made to make filepaths and directory names generic and portable.  If you use this notebook you will have to tweak things for your local environment!"
   ]
  },
  {
   "cell_type": "markdown",
   "metadata": {},
   "source": [
    "### 1. Import .csv file of features for which MIDs should be extracted"
   ]
  },
  {
   "cell_type": "code",
   "execution_count": 2,
   "metadata": {
    "collapsed": false
   },
   "outputs": [
    {
     "name": "stderr",
     "output_type": "stream",
     "text": [
      "Parsed with column specification:\n",
      "cols(\n",
      "  name = col_character(),\n",
      "  mz = col_double(),\n",
      "  rtmed = col_double(),\n",
      "  manual_rt_min = col_double(),\n",
      "  manual_rt_max = col_double(),\n",
      "  manual_span = col_integer(),\n",
      "  charge = col_integer(),\n",
      "  formula = col_character()\n",
      ")\n"
     ]
    }
   ],
   "source": [
    "setwd('~/Box/2018_D2O_manuscript/jupyter/')\n",
    "hits <- read_csv('saved_data/top_20_labeled_features_homoharringtonine_manual_annot.csv') %>%\n",
    "    clean_names %>%\n",
    "    na.omit()"
   ]
  },
  {
   "cell_type": "code",
   "execution_count": 3,
   "metadata": {
    "collapsed": false
   },
   "outputs": [
    {
     "data": {
      "text/html": [
       "<table>\n",
       "<thead><tr><th scope=col>name</th><th scope=col>mz</th><th scope=col>rtmed</th><th scope=col>manual_rt_min</th><th scope=col>manual_rt_max</th><th scope=col>manual_span</th><th scope=col>charge</th><th scope=col>formula</th></tr></thead>\n",
       "<tbody>\n",
       "\t<tr><td>M139T631   </td><td>139.0390   </td><td>10.511692  </td><td>10.3       </td><td>10.8       </td><td>3          </td><td>1          </td><td>C7H7O3+    </td></tr>\n",
       "\t<tr><td>M163T380   </td><td>163.0389   </td><td> 6.331000  </td><td> 6.1       </td><td> 6.7       </td><td>4          </td><td>1          </td><td>C9H7O3+    </td></tr>\n",
       "\t<tr><td>M205T219   </td><td>205.0971   </td><td> 3.655875  </td><td> 3.3       </td><td> 3.9       </td><td>6          </td><td>1          </td><td>C11H13N2O2+</td></tr>\n",
       "\t<tr><td>M310T1106_1</td><td>310.1414   </td><td>18.439758  </td><td>18.3       </td><td>18.7       </td><td>7          </td><td>2          </td><td>unknown    </td></tr>\n",
       "\t<tr><td>M433T969_1 </td><td>433.1128   </td><td>16.151158  </td><td>16.0       </td><td>16.4       </td><td>4          </td><td>1          </td><td>C21H21O10+ </td></tr>\n",
       "\t<tr><td>M449T970   </td><td>449.1078   </td><td>16.164825  </td><td>16.0       </td><td>16.4       </td><td>7          </td><td>1          </td><td>C21H21O11+ </td></tr>\n",
       "\t<tr><td>M449T952   </td><td>449.1081   </td><td>15.859600  </td><td>15.7       </td><td>16.0       </td><td>7          </td><td>1          </td><td>C21H21O11+ </td></tr>\n",
       "\t<tr><td>M502T837_1 </td><td>502.2441   </td><td>13.950617  </td><td>13.8       </td><td>14.2       </td><td>7          </td><td>1          </td><td>C27H36NO8+ </td></tr>\n",
       "\t<tr><td>M516T931_1 </td><td>516.2601   </td><td>15.521333  </td><td>15.4       </td><td>15.8       </td><td>9          </td><td>1          </td><td>C28H38NO8+ </td></tr>\n",
       "</tbody>\n",
       "</table>\n"
      ],
      "text/latex": [
       "\\begin{tabular}{r|llllllll}\n",
       " name & mz & rtmed & manual\\_rt\\_min & manual\\_rt\\_max & manual\\_span & charge & formula\\\\\n",
       "\\hline\n",
       "\t M139T631    & 139.0390    & 10.511692   & 10.3        & 10.8        & 3           & 1           & C7H7O3+    \\\\\n",
       "\t M163T380    & 163.0389    &  6.331000   &  6.1        &  6.7        & 4           & 1           & C9H7O3+    \\\\\n",
       "\t M205T219    & 205.0971    &  3.655875   &  3.3        &  3.9        & 6           & 1           & C11H13N2O2+\\\\\n",
       "\t M310T1106\\_1 & 310.1414      & 18.439758     & 18.3          & 18.7          & 7             & 2             & unknown      \\\\\n",
       "\t M433T969\\_1  & 433.1128      & 16.151158     & 16.0          & 16.4          & 4             & 1             & C21H21O10+   \\\\\n",
       "\t M449T970    & 449.1078    & 16.164825   & 16.0        & 16.4        & 7           & 1           & C21H21O11+ \\\\\n",
       "\t M449T952    & 449.1081    & 15.859600   & 15.7        & 16.0        & 7           & 1           & C21H21O11+ \\\\\n",
       "\t M502T837\\_1  & 502.2441      & 13.950617     & 13.8          & 14.2          & 7             & 1             & C27H36NO8+   \\\\\n",
       "\t M516T931\\_1  & 516.2601      & 15.521333     & 15.4          & 15.8          & 9             & 1             & C28H38NO8+   \\\\\n",
       "\\end{tabular}\n"
      ],
      "text/markdown": [
       "\n",
       "name | mz | rtmed | manual_rt_min | manual_rt_max | manual_span | charge | formula | \n",
       "|---|---|---|---|---|---|---|---|---|\n",
       "| M139T631    | 139.0390    | 10.511692   | 10.3        | 10.8        | 3           | 1           | C7H7O3+     | \n",
       "| M163T380    | 163.0389    |  6.331000   |  6.1        |  6.7        | 4           | 1           | C9H7O3+     | \n",
       "| M205T219    | 205.0971    |  3.655875   |  3.3        |  3.9        | 6           | 1           | C11H13N2O2+ | \n",
       "| M310T1106_1 | 310.1414    | 18.439758   | 18.3        | 18.7        | 7           | 2           | unknown     | \n",
       "| M433T969_1  | 433.1128    | 16.151158   | 16.0        | 16.4        | 4           | 1           | C21H21O10+  | \n",
       "| M449T970    | 449.1078    | 16.164825   | 16.0        | 16.4        | 7           | 1           | C21H21O11+  | \n",
       "| M449T952    | 449.1081    | 15.859600   | 15.7        | 16.0        | 7           | 1           | C21H21O11+  | \n",
       "| M502T837_1  | 502.2441    | 13.950617   | 13.8        | 14.2        | 7           | 1           | C27H36NO8+  | \n",
       "| M516T931_1  | 516.2601    | 15.521333   | 15.4        | 15.8        | 9           | 1           | C28H38NO8+  | \n",
       "\n",
       "\n"
      ],
      "text/plain": [
       "  name        mz       rtmed     manual_rt_min manual_rt_max manual_span charge\n",
       "1 M139T631    139.0390 10.511692 10.3          10.8          3           1     \n",
       "2 M163T380    163.0389  6.331000  6.1           6.7          4           1     \n",
       "3 M205T219    205.0971  3.655875  3.3           3.9          6           1     \n",
       "4 M310T1106_1 310.1414 18.439758 18.3          18.7          7           2     \n",
       "5 M433T969_1  433.1128 16.151158 16.0          16.4          4           1     \n",
       "6 M449T970    449.1078 16.164825 16.0          16.4          7           1     \n",
       "7 M449T952    449.1081 15.859600 15.7          16.0          7           1     \n",
       "8 M502T837_1  502.2441 13.950617 13.8          14.2          7           1     \n",
       "9 M516T931_1  516.2601 15.521333 15.4          15.8          9           1     \n",
       "  formula    \n",
       "1 C7H7O3+    \n",
       "2 C9H7O3+    \n",
       "3 C11H13N2O2+\n",
       "4 unknown    \n",
       "5 C21H21O10+ \n",
       "6 C21H21O11+ \n",
       "7 C21H21O11+ \n",
       "8 C27H36NO8+ \n",
       "9 C28H38NO8+ "
      ]
     },
     "metadata": {},
     "output_type": "display_data"
    }
   ],
   "source": [
    "hits"
   ]
  },
  {
   "cell_type": "markdown",
   "metadata": {},
   "source": [
    "### 2. Generate calls to `get_MID.py`"
   ]
  },
  {
   "cell_type": "code",
   "execution_count": 4,
   "metadata": {
    "collapsed": false
   },
   "outputs": [],
   "source": [
    "files <- \n",
    "    list(labeled = '~/Box/2018_D2O_manuscript/mzml_files/homoharringtonine_case_study/180501-KS-I-17-Dnew-A.mzML',\n",
    "         unlabeled = '~/Box/2018_D2O_manuscript/mzml_files/homoharringtonine_case_study/180412-KS-I-9-control-1.mzML')\n",
    "\n",
    "\n",
    "command_list <- c()\n",
    "\n",
    "for(file_ref in names(files)){\n",
    "    mzml_file <- files[file_ref]\n",
    "    \n",
    "    for(idx in 1:nrow(hits)){\n",
    "        f <- mzml_file\n",
    "        d <- hits[[idx, 'mz']]\n",
    "        z <- hits[[idx, 'charge']]\n",
    "        r <- hits[[idx, 'manual_rt_min']]\n",
    "        t <- hits[[idx, 'manual_rt_max']]\n",
    "        n <- hits[[idx, 'manual_span']]\n",
    "        out_fname <- hits[[idx, 'name']]\n",
    "        \n",
    "        # file i/o\n",
    "        dirname <- paste('~/Box/2018_D2O_manuscript/jupyter/saved_data/mids/', file_ref, sep='')\n",
    "        ifelse(!dir.exists(dirname), dir.create(dirname, recursive = TRUE), FALSE)\n",
    "        o <- paste(dirname, \n",
    "                   '/', \n",
    "                   out_fname, \n",
    "                   '.csv', \n",
    "                   sep='')\n",
    "        \n",
    "        # tabulate commands\n",
    "        this_command <- paste('source activate py36; python get_MID.py -f', f, \n",
    "                              '-d', d,\n",
    "                              '-z', z,\n",
    "                              '-r', r,\n",
    "                              '-t', t,\n",
    "                              '-o', o,\n",
    "                              sep=' ')\n",
    "        command_list <-  c(command_list, this_command)\n",
    "    }\n",
    "}"
   ]
  },
  {
   "cell_type": "markdown",
   "metadata": {},
   "source": [
    "### 3. Execute the commands using R's `system()` command.\n",
    "\n",
    "(N.B. This was the fastest/easiest way for me to do this, not the most secure or scalable.)"
   ]
  },
  {
   "cell_type": "code",
   "execution_count": 5,
   "metadata": {
    "collapsed": false
   },
   "outputs": [
    {
     "name": "stdout",
     "output_type": "stream",
     "text": [
      "[1] \"source activate py36; python get_MID.py -f ~/Box/2018_D2O_manuscript/mzml_files/homoharringtonine_case_study/180501-KS-I-17-Dnew-A.mzML -d 139.0389614 -z 1 -r 10.3 -t 10.8 -o ~/Box/2018_D2O_manuscript/jupyter/saved_data/mids/labeled/M139T631.csv\"\n",
      "[1] \"source activate py36; python get_MID.py -f ~/Box/2018_D2O_manuscript/mzml_files/homoharringtonine_case_study/180501-KS-I-17-Dnew-A.mzML -d 163.0388782 -z 1 -r 6.1 -t 6.7 -o ~/Box/2018_D2O_manuscript/jupyter/saved_data/mids/labeled/M163T380.csv\"\n",
      "[1] \"source activate py36; python get_MID.py -f ~/Box/2018_D2O_manuscript/mzml_files/homoharringtonine_case_study/180501-KS-I-17-Dnew-A.mzML -d 205.0970761 -z 1 -r 3.3 -t 3.9 -o ~/Box/2018_D2O_manuscript/jupyter/saved_data/mids/labeled/M205T219.csv\"\n",
      "[1] \"source activate py36; python get_MID.py -f ~/Box/2018_D2O_manuscript/mzml_files/homoharringtonine_case_study/180501-KS-I-17-Dnew-A.mzML -d 310.1414445 -z 2 -r 18.3 -t 18.7 -o ~/Box/2018_D2O_manuscript/jupyter/saved_data/mids/labeled/M310T1106_1.csv\"\n",
      "[1] \"source activate py36; python get_MID.py -f ~/Box/2018_D2O_manuscript/mzml_files/homoharringtonine_case_study/180501-KS-I-17-Dnew-A.mzML -d 433.1128285 -z 1 -r 16 -t 16.4 -o ~/Box/2018_D2O_manuscript/jupyter/saved_data/mids/labeled/M433T969_1.csv\"\n",
      "[1] \"source activate py36; python get_MID.py -f ~/Box/2018_D2O_manuscript/mzml_files/homoharringtonine_case_study/180501-KS-I-17-Dnew-A.mzML -d 449.1078169 -z 1 -r 16 -t 16.4 -o ~/Box/2018_D2O_manuscript/jupyter/saved_data/mids/labeled/M449T970.csv\"\n",
      "[1] \"source activate py36; python get_MID.py -f ~/Box/2018_D2O_manuscript/mzml_files/homoharringtonine_case_study/180501-KS-I-17-Dnew-A.mzML -d 449.1080994 -z 1 -r 15.7 -t 16 -o ~/Box/2018_D2O_manuscript/jupyter/saved_data/mids/labeled/M449T952.csv\"\n",
      "[1] \"source activate py36; python get_MID.py -f ~/Box/2018_D2O_manuscript/mzml_files/homoharringtonine_case_study/180501-KS-I-17-Dnew-A.mzML -d 502.244148 -z 1 -r 13.8 -t 14.2 -o ~/Box/2018_D2O_manuscript/jupyter/saved_data/mids/labeled/M502T837_1.csv\"\n",
      "[1] \"source activate py36; python get_MID.py -f ~/Box/2018_D2O_manuscript/mzml_files/homoharringtonine_case_study/180501-KS-I-17-Dnew-A.mzML -d 516.2600932 -z 1 -r 15.4 -t 15.8 -o ~/Box/2018_D2O_manuscript/jupyter/saved_data/mids/labeled/M516T931_1.csv\"\n",
      "[1] \"source activate py36; python get_MID.py -f ~/Box/2018_D2O_manuscript/mzml_files/homoharringtonine_case_study/180412-KS-I-9-control-1.mzML -d 139.0389614 -z 1 -r 10.3 -t 10.8 -o ~/Box/2018_D2O_manuscript/jupyter/saved_data/mids/unlabeled/M139T631.csv\"\n",
      "[1] \"source activate py36; python get_MID.py -f ~/Box/2018_D2O_manuscript/mzml_files/homoharringtonine_case_study/180412-KS-I-9-control-1.mzML -d 163.0388782 -z 1 -r 6.1 -t 6.7 -o ~/Box/2018_D2O_manuscript/jupyter/saved_data/mids/unlabeled/M163T380.csv\"\n",
      "[1] \"source activate py36; python get_MID.py -f ~/Box/2018_D2O_manuscript/mzml_files/homoharringtonine_case_study/180412-KS-I-9-control-1.mzML -d 205.0970761 -z 1 -r 3.3 -t 3.9 -o ~/Box/2018_D2O_manuscript/jupyter/saved_data/mids/unlabeled/M205T219.csv\"\n",
      "[1] \"source activate py36; python get_MID.py -f ~/Box/2018_D2O_manuscript/mzml_files/homoharringtonine_case_study/180412-KS-I-9-control-1.mzML -d 310.1414445 -z 2 -r 18.3 -t 18.7 -o ~/Box/2018_D2O_manuscript/jupyter/saved_data/mids/unlabeled/M310T1106_1.csv\"\n",
      "[1] \"source activate py36; python get_MID.py -f ~/Box/2018_D2O_manuscript/mzml_files/homoharringtonine_case_study/180412-KS-I-9-control-1.mzML -d 433.1128285 -z 1 -r 16 -t 16.4 -o ~/Box/2018_D2O_manuscript/jupyter/saved_data/mids/unlabeled/M433T969_1.csv\"\n",
      "[1] \"source activate py36; python get_MID.py -f ~/Box/2018_D2O_manuscript/mzml_files/homoharringtonine_case_study/180412-KS-I-9-control-1.mzML -d 449.1078169 -z 1 -r 16 -t 16.4 -o ~/Box/2018_D2O_manuscript/jupyter/saved_data/mids/unlabeled/M449T970.csv\"\n",
      "[1] \"source activate py36; python get_MID.py -f ~/Box/2018_D2O_manuscript/mzml_files/homoharringtonine_case_study/180412-KS-I-9-control-1.mzML -d 449.1080994 -z 1 -r 15.7 -t 16 -o ~/Box/2018_D2O_manuscript/jupyter/saved_data/mids/unlabeled/M449T952.csv\"\n",
      "[1] \"source activate py36; python get_MID.py -f ~/Box/2018_D2O_manuscript/mzml_files/homoharringtonine_case_study/180412-KS-I-9-control-1.mzML -d 502.244148 -z 1 -r 13.8 -t 14.2 -o ~/Box/2018_D2O_manuscript/jupyter/saved_data/mids/unlabeled/M502T837_1.csv\"\n",
      "[1] \"source activate py36; python get_MID.py -f ~/Box/2018_D2O_manuscript/mzml_files/homoharringtonine_case_study/180412-KS-I-9-control-1.mzML -d 516.2600932 -z 1 -r 15.4 -t 15.8 -o ~/Box/2018_D2O_manuscript/jupyter/saved_data/mids/unlabeled/M516T931_1.csv\"\n"
     ]
    }
   ],
   "source": [
    "setwd('~/stanford/code/sattely_lab_github/scripts/')\n",
    "for(cmd in command_list){\n",
    "    print(cmd)\n",
    "    system(cmd)\n",
    "}"
   ]
  },
  {
   "cell_type": "markdown",
   "metadata": {},
   "source": [
    "### 4. Read all the various .csv files into a single dataframe."
   ]
  },
  {
   "cell_type": "code",
   "execution_count": 7,
   "metadata": {
    "collapsed": false
   },
   "outputs": [
    {
     "name": "stderr",
     "output_type": "stream",
     "text": [
      "Warning message:\n",
      "“Missing column names filled in: 'X1' [1]”Parsed with column specification:\n",
      "cols(\n",
      "  X1 = col_integer(),\n",
      "  C13_theo_mz = col_double(),\n",
      "  H2_theo_mz = col_double(),\n",
      "  analysis_date = col_datetime(format = \"\"),\n",
      "  m = col_integer(),\n",
      "  mean_mz = col_double(),\n",
      "  mid = col_double(),\n",
      "  mzml_file = col_character(),\n",
      "  raw_intensity = col_double(),\n",
      "  structure = col_character()\n",
      ")\n",
      "Warning message:\n",
      "“Missing column names filled in: 'X1' [1]”Parsed with column specification:\n",
      "cols(\n",
      "  X1 = col_integer(),\n",
      "  C13_theo_mz = col_double(),\n",
      "  H2_theo_mz = col_double(),\n",
      "  analysis_date = col_datetime(format = \"\"),\n",
      "  m = col_integer(),\n",
      "  mean_mz = col_double(),\n",
      "  mid = col_double(),\n",
      "  mzml_file = col_character(),\n",
      "  raw_intensity = col_double(),\n",
      "  structure = col_character()\n",
      ")\n",
      "Warning message:\n",
      "“Missing column names filled in: 'X1' [1]”Parsed with column specification:\n",
      "cols(\n",
      "  X1 = col_integer(),\n",
      "  C13_theo_mz = col_double(),\n",
      "  H2_theo_mz = col_double(),\n",
      "  analysis_date = col_datetime(format = \"\"),\n",
      "  m = col_integer(),\n",
      "  mean_mz = col_integer(),\n",
      "  mid = col_double(),\n",
      "  mzml_file = col_character(),\n",
      "  raw_intensity = col_double(),\n",
      "  structure = col_character()\n",
      ")\n",
      "Warning message:\n",
      "“Missing column names filled in: 'X1' [1]”Parsed with column specification:\n",
      "cols(\n",
      "  X1 = col_integer(),\n",
      "  C13_theo_mz = col_double(),\n",
      "  H2_theo_mz = col_double(),\n",
      "  analysis_date = col_datetime(format = \"\"),\n",
      "  m = col_integer(),\n",
      "  mean_mz = col_double(),\n",
      "  mid = col_double(),\n",
      "  mzml_file = col_character(),\n",
      "  raw_intensity = col_double(),\n",
      "  structure = col_character()\n",
      ")\n",
      "Warning message:\n",
      "“Missing column names filled in: 'X1' [1]”Parsed with column specification:\n",
      "cols(\n",
      "  X1 = col_integer(),\n",
      "  C13_theo_mz = col_double(),\n",
      "  H2_theo_mz = col_double(),\n",
      "  analysis_date = col_datetime(format = \"\"),\n",
      "  m = col_integer(),\n",
      "  mean_mz = col_double(),\n",
      "  mid = col_double(),\n",
      "  mzml_file = col_character(),\n",
      "  raw_intensity = col_double(),\n",
      "  structure = col_character()\n",
      ")\n",
      "Warning message:\n",
      "“Missing column names filled in: 'X1' [1]”Parsed with column specification:\n",
      "cols(\n",
      "  X1 = col_integer(),\n",
      "  C13_theo_mz = col_double(),\n",
      "  H2_theo_mz = col_double(),\n",
      "  analysis_date = col_datetime(format = \"\"),\n",
      "  m = col_integer(),\n",
      "  mean_mz = col_double(),\n",
      "  mid = col_double(),\n",
      "  mzml_file = col_character(),\n",
      "  raw_intensity = col_double(),\n",
      "  structure = col_character()\n",
      ")\n",
      "Warning message:\n",
      "“Missing column names filled in: 'X1' [1]”Parsed with column specification:\n",
      "cols(\n",
      "  X1 = col_integer(),\n",
      "  C13_theo_mz = col_double(),\n",
      "  H2_theo_mz = col_double(),\n",
      "  analysis_date = col_datetime(format = \"\"),\n",
      "  m = col_integer(),\n",
      "  mean_mz = col_double(),\n",
      "  mid = col_double(),\n",
      "  mzml_file = col_character(),\n",
      "  raw_intensity = col_double(),\n",
      "  structure = col_character()\n",
      ")\n",
      "Warning message:\n",
      "“Missing column names filled in: 'X1' [1]”Parsed with column specification:\n",
      "cols(\n",
      "  X1 = col_integer(),\n",
      "  C13_theo_mz = col_double(),\n",
      "  H2_theo_mz = col_double(),\n",
      "  analysis_date = col_datetime(format = \"\"),\n",
      "  m = col_integer(),\n",
      "  mean_mz = col_double(),\n",
      "  mid = col_double(),\n",
      "  mzml_file = col_character(),\n",
      "  raw_intensity = col_double(),\n",
      "  structure = col_character()\n",
      ")\n",
      "Warning message:\n",
      "“Missing column names filled in: 'X1' [1]”Parsed with column specification:\n",
      "cols(\n",
      "  X1 = col_integer(),\n",
      "  C13_theo_mz = col_double(),\n",
      "  H2_theo_mz = col_double(),\n",
      "  analysis_date = col_datetime(format = \"\"),\n",
      "  m = col_integer(),\n",
      "  mean_mz = col_double(),\n",
      "  mid = col_double(),\n",
      "  mzml_file = col_character(),\n",
      "  raw_intensity = col_double(),\n",
      "  structure = col_character()\n",
      ")\n",
      "Warning message:\n",
      "“Missing column names filled in: 'X1' [1]”Parsed with column specification:\n",
      "cols(\n",
      "  X1 = col_integer(),\n",
      "  C13_theo_mz = col_double(),\n",
      "  H2_theo_mz = col_double(),\n",
      "  analysis_date = col_datetime(format = \"\"),\n",
      "  m = col_integer(),\n",
      "  mean_mz = col_double(),\n",
      "  mid = col_double(),\n",
      "  mzml_file = col_character(),\n",
      "  raw_intensity = col_double(),\n",
      "  structure = col_character()\n",
      ")\n",
      "Warning message:\n",
      "“Missing column names filled in: 'X1' [1]”Parsed with column specification:\n",
      "cols(\n",
      "  X1 = col_integer(),\n",
      "  C13_theo_mz = col_double(),\n",
      "  H2_theo_mz = col_double(),\n",
      "  analysis_date = col_datetime(format = \"\"),\n",
      "  m = col_integer(),\n",
      "  mean_mz = col_double(),\n",
      "  mid = col_double(),\n",
      "  mzml_file = col_character(),\n",
      "  raw_intensity = col_double(),\n",
      "  structure = col_character()\n",
      ")\n",
      "Warning message:\n",
      "“Missing column names filled in: 'X1' [1]”Parsed with column specification:\n",
      "cols(\n",
      "  X1 = col_integer(),\n",
      "  C13_theo_mz = col_double(),\n",
      "  H2_theo_mz = col_double(),\n",
      "  analysis_date = col_datetime(format = \"\"),\n",
      "  m = col_integer(),\n",
      "  mean_mz = col_double(),\n",
      "  mid = col_double(),\n",
      "  mzml_file = col_character(),\n",
      "  raw_intensity = col_double(),\n",
      "  structure = col_character()\n",
      ")\n",
      "Warning message:\n",
      "“Missing column names filled in: 'X1' [1]”Parsed with column specification:\n",
      "cols(\n",
      "  X1 = col_integer(),\n",
      "  C13_theo_mz = col_double(),\n",
      "  H2_theo_mz = col_double(),\n",
      "  analysis_date = col_datetime(format = \"\"),\n",
      "  m = col_integer(),\n",
      "  mean_mz = col_double(),\n",
      "  mid = col_double(),\n",
      "  mzml_file = col_character(),\n",
      "  raw_intensity = col_double(),\n",
      "  structure = col_character()\n",
      ")\n",
      "Warning message:\n",
      "“Missing column names filled in: 'X1' [1]”Parsed with column specification:\n",
      "cols(\n",
      "  X1 = col_integer(),\n",
      "  C13_theo_mz = col_double(),\n",
      "  H2_theo_mz = col_double(),\n",
      "  analysis_date = col_datetime(format = \"\"),\n",
      "  m = col_integer(),\n",
      "  mean_mz = col_integer(),\n",
      "  mid = col_double(),\n",
      "  mzml_file = col_character(),\n",
      "  raw_intensity = col_double(),\n",
      "  structure = col_character()\n",
      ")\n",
      "Warning message:\n",
      "“Missing column names filled in: 'X1' [1]”Parsed with column specification:\n",
      "cols(\n",
      "  X1 = col_integer(),\n",
      "  C13_theo_mz = col_double(),\n",
      "  H2_theo_mz = col_double(),\n",
      "  analysis_date = col_datetime(format = \"\"),\n",
      "  m = col_integer(),\n",
      "  mean_mz = col_double(),\n",
      "  mid = col_double(),\n",
      "  mzml_file = col_character(),\n",
      "  raw_intensity = col_double(),\n",
      "  structure = col_character()\n",
      ")\n",
      "Warning message:\n",
      "“Missing column names filled in: 'X1' [1]”Parsed with column specification:\n",
      "cols(\n",
      "  X1 = col_integer(),\n",
      "  C13_theo_mz = col_double(),\n",
      "  H2_theo_mz = col_double(),\n",
      "  analysis_date = col_datetime(format = \"\"),\n",
      "  m = col_integer(),\n",
      "  mean_mz = col_integer(),\n",
      "  mid = col_double(),\n",
      "  mzml_file = col_character(),\n",
      "  raw_intensity = col_double(),\n",
      "  structure = col_character()\n",
      ")\n",
      "Warning message:\n",
      "“Missing column names filled in: 'X1' [1]”Parsed with column specification:\n",
      "cols(\n",
      "  X1 = col_integer(),\n",
      "  C13_theo_mz = col_double(),\n",
      "  H2_theo_mz = col_double(),\n",
      "  analysis_date = col_datetime(format = \"\"),\n",
      "  m = col_integer(),\n",
      "  mean_mz = col_double(),\n",
      "  mid = col_double(),\n",
      "  mzml_file = col_character(),\n",
      "  raw_intensity = col_double(),\n",
      "  structure = col_character()\n",
      ")\n",
      "Warning message:\n",
      "“Missing column names filled in: 'X1' [1]”Parsed with column specification:\n",
      "cols(\n",
      "  X1 = col_integer(),\n",
      "  C13_theo_mz = col_double(),\n",
      "  H2_theo_mz = col_double(),\n",
      "  analysis_date = col_datetime(format = \"\"),\n",
      "  m = col_integer(),\n",
      "  mean_mz = col_double(),\n",
      "  mid = col_double(),\n",
      "  mzml_file = col_character(),\n",
      "  raw_intensity = col_double(),\n",
      "  structure = col_character()\n",
      ")\n"
     ]
    }
   ],
   "source": [
    "all_df <- \n",
    "    do.call(bind_rows,\n",
    "            lapply(list.files(path = \"~/Box/2018_D2O_manuscript/jupyter/saved_data/mids\",\n",
    "                            pattern = \"*.csv\",\n",
    "                            full.names = TRUE,\n",
    "                            recursive = TRUE\n",
    "                           ),\n",
    "                   read_csv)\n",
    "           ) %>%\n",
    "    clean_names "
   ]
  },
  {
   "cell_type": "markdown",
   "metadata": {},
   "source": [
    "### 5. Plot the data with `ggplot()`"
   ]
  },
  {
   "cell_type": "code",
   "execution_count": 8,
   "metadata": {
    "collapsed": false
   },
   "outputs": [
    {
     "data": {},
     "metadata": {},
     "output_type": "display_data"
    },
    {
     "name": "stderr",
     "output_type": "stream",
     "text": [
      "Warning message in dir.create(\"~/Box/2018_D2O_manuscript/figures/untarg_analysis\"):\n",
      "“'/Users/curt/Box/2018_D2O_manuscript/figures/untarg_analysis' already exists”"
     ]
    },
    {
     "data": {
      "image/png": "[encoded data removed]",
      "text/plain": [
       "plot without title"
      ]
     },
     "metadata": {},
     "output_type": "display_data"
    }
   ],
   "source": [
    "options(repr.plot.width=6, repr.plot.height=2.5)\n",
    "all_df %>%\n",
    "    mutate(structure = str_replace(structure, '[_]', ', ')) %>%\n",
    "    mutate(structure = str_replace(structure, '(?<=[.][0-9]{3})[0-9]*', '')) %>%\n",
    "    ggplot(aes(x=m, y=mid, fill=mzml_file)) +\n",
    "        geom_bar(stat='identity') +\n",
    "        scale_x_continuous(breaks = 0:6) +\n",
    "        facet_grid(mzml_file ~ structure, scale='free_x') +\n",
    "        theme_minimal() +\n",
    "        theme(legend.position='none',\n",
    "              panel.grid = element_blank(),\n",
    "              strip.text.y = element_blank(),\n",
    "              ) +\n",
    "        scale_fill_viridis(discrete=T, begin = 0.3, end=0.8)\n",
    "\n",
    "dir.create('~/Box/2018_D2O_manuscript/figures/untarg_analysis')\n",
    "ggsave('~/Box/2018_D2O_manuscript/figures/untarg_analysis/top_mids.pdf', width=6, height=2.5)"
   ]
  },
  {
   "cell_type": "markdown",
   "metadata": {},
   "source": [
    "The plot above is essentially a subfigure in the paper; of course the version in the paper is lightly edited for readability and formatting."
   ]
  }
 ],
 "metadata": {
  "kernelspec": {
   "display_name": "R [conda env:r341]",
   "language": "R",
   "name": "conda-env-r341-r"
  },
  "language_info": {
   "codemirror_mode": "r",
   "file_extension": ".r",
   "mimetype": "text/x-r-source",
   "name": "R",
   "pygments_lexer": "r",
   "version": "3.4.3"
  }
 },
 "nbformat": 4,
 "nbformat_minor": 1
}
